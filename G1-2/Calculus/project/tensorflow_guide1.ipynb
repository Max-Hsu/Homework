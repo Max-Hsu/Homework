{
 "cells": [
  {
   "cell_type": "code",
   "execution_count": 4,
   "metadata": {},
   "outputs": [
    {
     "name": "stdout",
     "output_type": "stream",
     "text": [
      "150\n"
     ]
    }
   ],
   "source": [
    "import os\n",
    "os.environ['TF_CPP_MIN_LOG_LEVEL'] = '2' \n",
    "import tensorflow as tf\n",
    "\n",
    "# 宣告常數A&B，後面的name參數，是要繪製tensorboard時所使用的名稱。\n",
    "# 若沒有指定，或是重複名稱，則tensorboard會自動修改。\n",
    "A = tf.constant(50, name='const_A')\n",
    "B = tf.constant(100, name='const_B')\n",
    "\n",
    "with tf.Session() as sess:\n",
    "    # 就是這邊！\n",
    "    # 使用 \"with tf.name_scope('Run'):\" 這句話可以畫出Run這個步驟。\n",
    "    with tf.name_scope('Run'):\n",
    "        B = sess.run(A+B)\n",
    "    print(B)\n",
    "    \n",
    "    # 畫好步驟之後，要使用\"tf.summary.FileWriter\"把檔案寫到目標資料夾，\n",
    "    # 第二個參數表示要把整個圖層放到graph參數內，這樣才能用tensorboard畫出來。\n",
    "    train_writer = tf.summary.FileWriter('/home/shayne/tfboard_Test', sess.graph)\n",
    "    train_writer.close()"
   ]
  }
 ],
 "metadata": {
  "kernelspec": {
   "display_name": "Python 3",
   "language": "python",
   "name": "python3"
  },
  "language_info": {
   "codemirror_mode": {
    "name": "ipython",
    "version": 3
   },
   "file_extension": ".py",
   "mimetype": "text/x-python",
   "name": "python",
   "nbconvert_exporter": "python",
   "pygments_lexer": "ipython3",
   "version": "3.7.3"
  }
 },
 "nbformat": 4,
 "nbformat_minor": 2
}
