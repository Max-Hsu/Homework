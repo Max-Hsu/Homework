{
 "cells": [
  {
   "cell_type": "code",
   "execution_count": 28,
   "metadata": {
    "scrolled": false
   },
   "outputs": [
    {
     "name": "stdout",
     "output_type": "stream",
     "text": [
      "[-470.54600525 +0.j          -29.57181183 +2.52496596j\n",
      "   57.33721511-28.67231673j ...   -4.81007562-51.58154167j\n",
      "   57.33721511+28.67231673j  -29.57181183 -2.52496596j]\n"
     ]
    },
    {
     "data": {
      "image/png": "[encoded data removed]",
      "text/plain": [
       "<Figure size 432x288 with 1 Axes>"
      ]
     },
     "metadata": {
      "needs_background": "light"
     },
     "output_type": "display_data"
    },
    {
     "data": {
      "text/plain": [
       "'\\n%matplotlib inline\\nplt.plot(arraylist)\\nplt.show()\\n'"
      ]
     },
     "execution_count": 28,
     "metadata": {},
     "output_type": "execute_result"
    }
   ],
   "source": [
    "import numpy\n",
    "import matplotlib.pyplot as plt\n",
    "import plotly.plotly as py\n",
    "arraylist=[]\n",
    "fileuni = open(\"C:\\\\Users\\\\Max-Hsu\\\\Desktop\\\\homework\\\\G1-2\\\\Calculus\\\\project\\\\unichannel\")\n",
    "fileuni.readline()\n",
    "fileuni.readline()\n",
    "while True:\n",
    "\tgetnum=fileuni.readline()\n",
    "\tif(getnum == \"\"):\n",
    "\t\tbreak\n",
    "\tgetnum=getnum[:-1]\n",
    "\tarraylist+=[int(getnum)/65536]\n",
    "\t\n",
    "ndarray=numpy.fft.fft(arraylist)\n",
    "\n",
    "print(len(arraylist))\n",
    "\n",
    "fig, ax = plt.subplots()\n",
    "ax.plot(arraylist) # plotting the spectrum\n",
    "plt.show()\n",
    "\n",
    "'''\n",
    "fig, ax = plt.subplots()\n",
    "ax.plot(numpy.sqrt((ndarray.real**2)+(ndarray.imag**2))) # plotting the spectrum\n",
    "ax.set_xlabel('Freq (Hz)')\n",
    "ax.set_ylabel('|Y(freq)|')\n",
    "plt.show()\n",
    "\n",
    "'''\n",
    "'''\n",
    "%matplotlib inline\n",
    "plt.plot(arraylist)\n",
    "plt.show()\n",
    "'''"
   ]
  },
  {
   "cell_type": "code",
   "execution_count": null,
   "metadata": {},
   "outputs": [],
   "source": []
  },
  {
   "cell_type": "code",
   "execution_count": null,
   "metadata": {},
   "outputs": [],
   "source": []
  }
 ],
 "metadata": {
  "kernelspec": {
   "display_name": "Python 3",
   "language": "python",
   "name": "python3"
  },
  "language_info": {
   "codemirror_mode": {
    "name": "ipython",
    "version": 3
   },
   "file_extension": ".py",
   "mimetype": "text/x-python",
   "name": "python",
   "nbconvert_exporter": "python",
   "pygments_lexer": "ipython3",
   "version": "3.7.3"
  }
 },
 "nbformat": 4,
 "nbformat_minor": 2
}
